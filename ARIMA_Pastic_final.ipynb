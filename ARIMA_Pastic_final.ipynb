{
 "cells": [
  {
   "cell_type": "code",
   "execution_count": 1,
   "metadata": {
    "ExecuteTime": {
     "end_time": "2021-01-02T09:05:23.772179Z",
     "start_time": "2021-01-02T09:05:20.245097Z"
    }
   },
   "outputs": [],
   "source": [
    "### Importing Basic libraries\n",
    "import pandas as pd\n",
    "import numpy as np\n",
    "import warnings\n",
    "import itertools\n",
    "import matplotlib.pyplot as plt\n",
    "from statsmodels.tsa.seasonal import seasonal_decompose\n",
    "import statsmodels.api as sm\n",
    "import seaborn as sns\n",
    "from sklearn.metrics import mean_squared_error\n",
    "from math import sqrt"
   ]
  },
  {
   "cell_type": "code",
   "execution_count": 2,
   "metadata": {
    "ExecuteTime": {
     "end_time": "2021-01-02T09:05:39.712446Z",
     "start_time": "2021-01-02T09:05:39.675445Z"
    }
   },
   "outputs": [
    {
     "data": {
      "text/html": [
       "<div>\n",
       "<style scoped>\n",
       "    .dataframe tbody tr th:only-of-type {\n",
       "        vertical-align: middle;\n",
       "    }\n",
       "\n",
       "    .dataframe tbody tr th {\n",
       "        vertical-align: top;\n",
       "    }\n",
       "\n",
       "    .dataframe thead th {\n",
       "        text-align: right;\n",
       "    }\n",
       "</style>\n",
       "<table border=\"1\" class=\"dataframe\">\n",
       "  <thead>\n",
       "    <tr style=\"text-align: right;\">\n",
       "      <th></th>\n",
       "      <th>Sales</th>\n",
       "    </tr>\n",
       "    <tr>\n",
       "      <th>Month</th>\n",
       "      <th></th>\n",
       "    </tr>\n",
       "  </thead>\n",
       "  <tbody>\n",
       "    <tr>\n",
       "      <th>2049-01-01</th>\n",
       "      <td>742</td>\n",
       "    </tr>\n",
       "    <tr>\n",
       "      <th>2049-02-01</th>\n",
       "      <td>697</td>\n",
       "    </tr>\n",
       "    <tr>\n",
       "      <th>2049-03-01</th>\n",
       "      <td>776</td>\n",
       "    </tr>\n",
       "    <tr>\n",
       "      <th>2049-04-01</th>\n",
       "      <td>898</td>\n",
       "    </tr>\n",
       "    <tr>\n",
       "      <th>2049-05-01</th>\n",
       "      <td>1030</td>\n",
       "    </tr>\n",
       "    <tr>\n",
       "      <th>2049-06-01</th>\n",
       "      <td>1107</td>\n",
       "    </tr>\n",
       "    <tr>\n",
       "      <th>2049-07-01</th>\n",
       "      <td>1165</td>\n",
       "    </tr>\n",
       "    <tr>\n",
       "      <th>2049-08-01</th>\n",
       "      <td>1216</td>\n",
       "    </tr>\n",
       "    <tr>\n",
       "      <th>2049-09-01</th>\n",
       "      <td>1208</td>\n",
       "    </tr>\n",
       "    <tr>\n",
       "      <th>2049-10-01</th>\n",
       "      <td>1131</td>\n",
       "    </tr>\n",
       "    <tr>\n",
       "      <th>2049-11-01</th>\n",
       "      <td>971</td>\n",
       "    </tr>\n",
       "    <tr>\n",
       "      <th>2049-12-01</th>\n",
       "      <td>783</td>\n",
       "    </tr>\n",
       "    <tr>\n",
       "      <th>2050-01-01</th>\n",
       "      <td>741</td>\n",
       "    </tr>\n",
       "    <tr>\n",
       "      <th>2050-02-01</th>\n",
       "      <td>700</td>\n",
       "    </tr>\n",
       "    <tr>\n",
       "      <th>2050-03-01</th>\n",
       "      <td>774</td>\n",
       "    </tr>\n",
       "    <tr>\n",
       "      <th>2050-04-01</th>\n",
       "      <td>932</td>\n",
       "    </tr>\n",
       "    <tr>\n",
       "      <th>2050-05-01</th>\n",
       "      <td>1099</td>\n",
       "    </tr>\n",
       "    <tr>\n",
       "      <th>2050-06-01</th>\n",
       "      <td>1223</td>\n",
       "    </tr>\n",
       "    <tr>\n",
       "      <th>2050-07-01</th>\n",
       "      <td>1290</td>\n",
       "    </tr>\n",
       "    <tr>\n",
       "      <th>2050-08-01</th>\n",
       "      <td>1349</td>\n",
       "    </tr>\n",
       "    <tr>\n",
       "      <th>2050-09-01</th>\n",
       "      <td>1341</td>\n",
       "    </tr>\n",
       "    <tr>\n",
       "      <th>2050-10-01</th>\n",
       "      <td>1296</td>\n",
       "    </tr>\n",
       "    <tr>\n",
       "      <th>2050-11-01</th>\n",
       "      <td>1066</td>\n",
       "    </tr>\n",
       "    <tr>\n",
       "      <th>2050-12-01</th>\n",
       "      <td>901</td>\n",
       "    </tr>\n",
       "    <tr>\n",
       "      <th>2051-01-01</th>\n",
       "      <td>896</td>\n",
       "    </tr>\n",
       "    <tr>\n",
       "      <th>2051-02-01</th>\n",
       "      <td>793</td>\n",
       "    </tr>\n",
       "    <tr>\n",
       "      <th>2051-03-01</th>\n",
       "      <td>885</td>\n",
       "    </tr>\n",
       "    <tr>\n",
       "      <th>2051-04-01</th>\n",
       "      <td>1055</td>\n",
       "    </tr>\n",
       "    <tr>\n",
       "      <th>2051-05-01</th>\n",
       "      <td>1204</td>\n",
       "    </tr>\n",
       "    <tr>\n",
       "      <th>2051-06-01</th>\n",
       "      <td>1326</td>\n",
       "    </tr>\n",
       "    <tr>\n",
       "      <th>2051-07-01</th>\n",
       "      <td>1303</td>\n",
       "    </tr>\n",
       "    <tr>\n",
       "      <th>2051-08-01</th>\n",
       "      <td>1436</td>\n",
       "    </tr>\n",
       "    <tr>\n",
       "      <th>2051-09-01</th>\n",
       "      <td>1473</td>\n",
       "    </tr>\n",
       "    <tr>\n",
       "      <th>2051-10-01</th>\n",
       "      <td>1453</td>\n",
       "    </tr>\n",
       "    <tr>\n",
       "      <th>2051-11-01</th>\n",
       "      <td>1170</td>\n",
       "    </tr>\n",
       "    <tr>\n",
       "      <th>2051-12-01</th>\n",
       "      <td>1023</td>\n",
       "    </tr>\n",
       "    <tr>\n",
       "      <th>2052-01-01</th>\n",
       "      <td>951</td>\n",
       "    </tr>\n",
       "    <tr>\n",
       "      <th>2052-02-01</th>\n",
       "      <td>861</td>\n",
       "    </tr>\n",
       "    <tr>\n",
       "      <th>2052-03-01</th>\n",
       "      <td>938</td>\n",
       "    </tr>\n",
       "    <tr>\n",
       "      <th>2052-04-01</th>\n",
       "      <td>1109</td>\n",
       "    </tr>\n",
       "    <tr>\n",
       "      <th>2052-05-01</th>\n",
       "      <td>1274</td>\n",
       "    </tr>\n",
       "    <tr>\n",
       "      <th>2052-06-01</th>\n",
       "      <td>1422</td>\n",
       "    </tr>\n",
       "    <tr>\n",
       "      <th>2052-07-01</th>\n",
       "      <td>1486</td>\n",
       "    </tr>\n",
       "    <tr>\n",
       "      <th>2052-08-01</th>\n",
       "      <td>1555</td>\n",
       "    </tr>\n",
       "    <tr>\n",
       "      <th>2052-09-01</th>\n",
       "      <td>1604</td>\n",
       "    </tr>\n",
       "    <tr>\n",
       "      <th>2052-10-01</th>\n",
       "      <td>1600</td>\n",
       "    </tr>\n",
       "    <tr>\n",
       "      <th>2052-11-01</th>\n",
       "      <td>1403</td>\n",
       "    </tr>\n",
       "    <tr>\n",
       "      <th>2052-12-01</th>\n",
       "      <td>1209</td>\n",
       "    </tr>\n",
       "    <tr>\n",
       "      <th>2053-01-01</th>\n",
       "      <td>1030</td>\n",
       "    </tr>\n",
       "    <tr>\n",
       "      <th>2053-02-01</th>\n",
       "      <td>1032</td>\n",
       "    </tr>\n",
       "    <tr>\n",
       "      <th>2053-03-01</th>\n",
       "      <td>1126</td>\n",
       "    </tr>\n",
       "    <tr>\n",
       "      <th>2053-04-01</th>\n",
       "      <td>1285</td>\n",
       "    </tr>\n",
       "    <tr>\n",
       "      <th>2053-05-01</th>\n",
       "      <td>1468</td>\n",
       "    </tr>\n",
       "    <tr>\n",
       "      <th>2053-06-01</th>\n",
       "      <td>1637</td>\n",
       "    </tr>\n",
       "    <tr>\n",
       "      <th>2053-07-01</th>\n",
       "      <td>1611</td>\n",
       "    </tr>\n",
       "    <tr>\n",
       "      <th>2053-08-01</th>\n",
       "      <td>1608</td>\n",
       "    </tr>\n",
       "    <tr>\n",
       "      <th>2053-09-01</th>\n",
       "      <td>1528</td>\n",
       "    </tr>\n",
       "    <tr>\n",
       "      <th>2053-10-01</th>\n",
       "      <td>1420</td>\n",
       "    </tr>\n",
       "    <tr>\n",
       "      <th>2053-11-01</th>\n",
       "      <td>1119</td>\n",
       "    </tr>\n",
       "    <tr>\n",
       "      <th>2053-12-01</th>\n",
       "      <td>1013</td>\n",
       "    </tr>\n",
       "  </tbody>\n",
       "</table>\n",
       "</div>"
      ],
      "text/plain": [
       "            Sales\n",
       "Month            \n",
       "2049-01-01    742\n",
       "2049-02-01    697\n",
       "2049-03-01    776\n",
       "2049-04-01    898\n",
       "2049-05-01   1030\n",
       "2049-06-01   1107\n",
       "2049-07-01   1165\n",
       "2049-08-01   1216\n",
       "2049-09-01   1208\n",
       "2049-10-01   1131\n",
       "2049-11-01    971\n",
       "2049-12-01    783\n",
       "2050-01-01    741\n",
       "2050-02-01    700\n",
       "2050-03-01    774\n",
       "2050-04-01    932\n",
       "2050-05-01   1099\n",
       "2050-06-01   1223\n",
       "2050-07-01   1290\n",
       "2050-08-01   1349\n",
       "2050-09-01   1341\n",
       "2050-10-01   1296\n",
       "2050-11-01   1066\n",
       "2050-12-01    901\n",
       "2051-01-01    896\n",
       "2051-02-01    793\n",
       "2051-03-01    885\n",
       "2051-04-01   1055\n",
       "2051-05-01   1204\n",
       "2051-06-01   1326\n",
       "2051-07-01   1303\n",
       "2051-08-01   1436\n",
       "2051-09-01   1473\n",
       "2051-10-01   1453\n",
       "2051-11-01   1170\n",
       "2051-12-01   1023\n",
       "2052-01-01    951\n",
       "2052-02-01    861\n",
       "2052-03-01    938\n",
       "2052-04-01   1109\n",
       "2052-05-01   1274\n",
       "2052-06-01   1422\n",
       "2052-07-01   1486\n",
       "2052-08-01   1555\n",
       "2052-09-01   1604\n",
       "2052-10-01   1600\n",
       "2052-11-01   1403\n",
       "2052-12-01   1209\n",
       "2053-01-01   1030\n",
       "2053-02-01   1032\n",
       "2053-03-01   1126\n",
       "2053-04-01   1285\n",
       "2053-05-01   1468\n",
       "2053-06-01   1637\n",
       "2053-07-01   1611\n",
       "2053-08-01   1608\n",
       "2053-09-01   1528\n",
       "2053-10-01   1420\n",
       "2053-11-01   1119\n",
       "2053-12-01   1013"
      ]
     },
     "execution_count": 2,
     "metadata": {},
     "output_type": "execute_result"
    }
   ],
   "source": [
    "### Reading dataset\n",
    "plastic = pd.read_csv(r'C:/Users/rayad/OneDrive/Documents/DataScience_Assignments/Forecast/PlasticSales.csv', header =0, index_col=0, parse_dates=True)\n",
    "plastic"
   ]
  },
  {
   "cell_type": "code",
   "execution_count": 3,
   "metadata": {
    "ExecuteTime": {
     "end_time": "2021-01-02T09:05:53.802266Z",
     "start_time": "2021-01-02T09:05:53.562248Z"
    }
   },
   "outputs": [
    {
     "data": {
      "text/plain": [
       "<matplotlib.axes._subplots.AxesSubplot at 0x1fd34c52550>"
      ]
     },
     "execution_count": 3,
     "metadata": {},
     "output_type": "execute_result"
    },
    {
     "data": {
      "image/png": "[encoded data removed]",
      "text/plain": [
       "<Figure size 432x288 with 1 Axes>"
      ]
     },
     "metadata": {
      "needs_background": "light"
     },
     "output_type": "display_data"
    }
   ],
   "source": [
    "plastic.plot()"
   ]
  },
  {
   "cell_type": "code",
   "execution_count": 4,
   "metadata": {
    "ExecuteTime": {
     "end_time": "2021-01-02T09:06:00.886755Z",
     "start_time": "2021-01-02T09:06:00.653221Z"
    }
   },
   "outputs": [
    {
     "data": {
      "text/plain": [
       "array([[<matplotlib.axes._subplots.AxesSubplot object at 0x000001FD34DF1910>]],\n",
       "      dtype=object)"
      ]
     },
     "execution_count": 4,
     "metadata": {},
     "output_type": "execute_result"
    },
    {
     "data": {
      "image/png": "[encoded data removed]",
      "text/plain": [
       "<Figure size 432x288 with 1 Axes>"
      ]
     },
     "metadata": {
      "needs_background": "light"
     },
     "output_type": "display_data"
    }
   ],
   "source": [
    "plastic.hist()"
   ]
  },
  {
   "cell_type": "code",
   "execution_count": 5,
   "metadata": {
    "ExecuteTime": {
     "end_time": "2021-01-02T09:06:08.651060Z",
     "start_time": "2021-01-02T09:06:08.467174Z"
    }
   },
   "outputs": [
    {
     "data": {
      "text/plain": [
       "<matplotlib.axes._subplots.AxesSubplot at 0x1fd34e80e50>"
      ]
     },
     "execution_count": 5,
     "metadata": {},
     "output_type": "execute_result"
    },
    {
     "data": {
      "image/png": "[encoded data removed]",
      "text/plain": [
       "<Figure size 432x288 with 1 Axes>"
      ]
     },
     "metadata": {
      "needs_background": "light"
     },
     "output_type": "display_data"
    }
   ],
   "source": [
    "plastic.plot(kind='kde')"
   ]
  },
  {
   "cell_type": "code",
   "execution_count": 15,
   "metadata": {
    "ExecuteTime": {
     "end_time": "2021-01-02T09:13:10.734446Z",
     "start_time": "2021-01-02T09:13:10.716446Z"
    }
   },
   "outputs": [
    {
     "name": "stdout",
     "output_type": "stream",
     "text": [
      "Dataset 50, Validation 10\n"
     ]
    }
   ],
   "source": [
    "### Splitting Data\n",
    "split_point = len(plastic) - 10\n",
    "dataset, validation = plastic[0:split_point], plastic[split_point:]\n",
    "print('Dataset %d, Validation %d' % (len(dataset), len(validation)))\n",
    "dataset.to_csv('dataset.csv', header=False)\n",
    "validation.to_csv('validation.csv', header=False)"
   ]
  },
  {
   "cell_type": "markdown",
   "metadata": {},
   "source": [
    "#### Building Naive Model"
   ]
  },
  {
   "cell_type": "code",
   "execution_count": 17,
   "metadata": {
    "ExecuteTime": {
     "end_time": "2021-01-02T09:13:45.257895Z",
     "start_time": "2021-01-02T09:13:45.247148Z"
    }
   },
   "outputs": [],
   "source": [
    "from pandas import read_csv\n",
    "from sklearn.metrics import mean_squared_error\n",
    "from math import sqrt\n",
    "# load data\n",
    "train = read_csv('dataset.csv', header=None, index_col=0, parse_dates=True, squeeze=True)\n",
    "# prepare data\n",
    "X = train.values\n",
    "X = X.astype('float32')\n",
    "train_size = int(len(X) * 0.50)\n",
    "train_size\n",
    "train, test = X[0:train_size], X[train_size:]"
   ]
  },
  {
   "cell_type": "code",
   "execution_count": 18,
   "metadata": {
    "ExecuteTime": {
     "end_time": "2021-01-02T09:13:56.673990Z",
     "start_time": "2021-01-02T09:13:56.664987Z"
    }
   },
   "outputs": [
    {
     "name": "stdout",
     "output_type": "stream",
     "text": [
      ">Predicted=896.00, Expected=793.00\n",
      ">Predicted=793.00, Expected=885.00\n",
      ">Predicted=885.00, Expected=1055.00\n",
      ">Predicted=1055.00, Expected=1204.00\n",
      ">Predicted=1204.00, Expected=1326.00\n",
      ">Predicted=1326.00, Expected=1303.00\n",
      ">Predicted=1303.00, Expected=1436.00\n",
      ">Predicted=1436.00, Expected=1473.00\n",
      ">Predicted=1473.00, Expected=1453.00\n",
      ">Predicted=1453.00, Expected=1170.00\n",
      ">Predicted=1170.00, Expected=1023.00\n",
      ">Predicted=1023.00, Expected=951.00\n",
      ">Predicted=951.00, Expected=861.00\n",
      ">Predicted=861.00, Expected=938.00\n",
      ">Predicted=938.00, Expected=1109.00\n",
      ">Predicted=1109.00, Expected=1274.00\n",
      ">Predicted=1274.00, Expected=1422.00\n",
      ">Predicted=1422.00, Expected=1486.00\n",
      ">Predicted=1486.00, Expected=1555.00\n",
      ">Predicted=1555.00, Expected=1604.00\n",
      ">Predicted=1604.00, Expected=1600.00\n",
      ">Predicted=1600.00, Expected=1403.00\n",
      ">Predicted=1403.00, Expected=1209.00\n",
      ">Predicted=1209.00, Expected=1030.00\n",
      ">Predicted=1030.00, Expected=1032.00\n",
      "RMSE: 130.244\n"
     ]
    }
   ],
   "source": [
    "# walk-forward validation\n",
    "history = [x for x in train]\n",
    "predictions = list()\n",
    "for i in range(len(test)):\n",
    "    yhat = history[-1]\n",
    "    predictions.append(yhat)\n",
    "# observation\n",
    "    obs = test[i]\n",
    "    history.append(obs)\n",
    "    print('>Predicted=%.2f, Expected=%.2f' % (yhat, obs))\n",
    "# report performance\n",
    "rmse = sqrt(mean_squared_error(test, predictions))\n",
    "print('RMSE: %.3f' % rmse)"
   ]
  },
  {
   "cell_type": "code",
   "execution_count": 19,
   "metadata": {
    "ExecuteTime": {
     "end_time": "2021-01-02T09:14:18.824192Z",
     "start_time": "2021-01-02T09:14:18.815191Z"
    }
   },
   "outputs": [],
   "source": [
    "import warnings\n",
    "from pandas import read_csv\n",
    "from statsmodels.tsa.arima_model import ARIMA\n",
    "from sklearn.metrics import mean_squared_error\n",
    "from math import sqrt\n",
    "\n",
    "# evaluate an ARIMA model for a given order (p,d,q) and return RMSE\n",
    "def evaluate_arima_model(X, arima_order):\n",
    "# prepare training dataset\n",
    "    X = X.astype('float32')\n",
    "    train_size = int(len(X) * 0.50)\n",
    "    train, test = X[0:train_size], X[train_size:]\n",
    "    history = [x for x in train]\n",
    "# make predictions\n",
    "    predictions = list()\n",
    "    for t in range(len(test)):\n",
    "        model = ARIMA(history, order=arima_order)\n",
    "# model_fit = model.fit(disp=0)\n",
    "        model_fit = model.fit(disp=0)\n",
    "        yhat = model_fit.forecast()[0]\n",
    "        predictions.append(yhat)\n",
    "        history.append(test[t])\n",
    "# calculate out of sample error\n",
    "    rmse = sqrt(mean_squared_error(test, predictions))\n",
    "    return rmse"
   ]
  },
  {
   "cell_type": "code",
   "execution_count": 20,
   "metadata": {
    "ExecuteTime": {
     "end_time": "2021-01-02T09:14:53.472158Z",
     "start_time": "2021-01-02T09:14:53.464150Z"
    }
   },
   "outputs": [],
   "source": [
    "# Gridsearch method to find out best p, d, q values.\n",
    "def evaluate_models(dataset, p_values, d_values, q_values):\n",
    "    dataset = dataset.astype('float32')\n",
    "    best_score, best_cfg = float('inf'), None\n",
    "    for p in p_values:\n",
    "        for d in d_values:\n",
    "            for q in q_values:\n",
    "                order = (p,d,q)\n",
    "                try:\n",
    "                    rmse = evaluate_arima_model(train, order)\n",
    "                    if rmse < best_score:\n",
    "                        best_score, best_cfg = rmse, order\n",
    "                    print('ARIMA%s RMSE=%.3f' % (order,rmse))\n",
    "                except:\n",
    "                    continue\n",
    "    print('Best ARIMA%s RMSE=%.3f' % (best_cfg, best_score))"
   ]
  },
  {
   "cell_type": "code",
   "execution_count": 21,
   "metadata": {
    "ExecuteTime": {
     "end_time": "2021-01-02T09:16:24.637614Z",
     "start_time": "2021-01-02T09:14:55.600462Z"
    }
   },
   "outputs": [
    {
     "name": "stdout",
     "output_type": "stream",
     "text": [
      "ARIMA(0, 0, 0) RMSE=287.826\n",
      "ARIMA(0, 0, 1) RMSE=173.349\n",
      "ARIMA(0, 1, 0) RMSE=131.965\n",
      "ARIMA(0, 1, 1) RMSE=115.456\n",
      "ARIMA(0, 1, 2) RMSE=124.381\n",
      "ARIMA(0, 1, 3) RMSE=117.369\n",
      "ARIMA(0, 2, 0) RMSE=115.573\n",
      "ARIMA(0, 2, 1) RMSE=120.601\n",
      "ARIMA(0, 2, 2) RMSE=126.179\n",
      "ARIMA(0, 2, 3) RMSE=126.092\n",
      "ARIMA(0, 2, 4) RMSE=124.122\n",
      "ARIMA(1, 0, 0) RMSE=131.068\n",
      "ARIMA(1, 0, 1) RMSE=113.286\n",
      "ARIMA(1, 0, 2) RMSE=120.403\n",
      "ARIMA(1, 1, 0) RMSE=104.850\n",
      "ARIMA(1, 2, 0) RMSE=120.745\n",
      "ARIMA(1, 2, 1) RMSE=116.965\n",
      "ARIMA(1, 2, 2) RMSE=121.632\n",
      "ARIMA(2, 0, 0) RMSE=95.366\n",
      "ARIMA(2, 0, 1) RMSE=95.921\n",
      "ARIMA(2, 1, 0) RMSE=110.318\n",
      "ARIMA(2, 2, 0) RMSE=124.531\n",
      "ARIMA(2, 2, 1) RMSE=122.992\n",
      "ARIMA(3, 1, 0) RMSE=108.382\n",
      "ARIMA(3, 2, 0) RMSE=129.020\n",
      "ARIMA(3, 2, 1) RMSE=120.365\n",
      "ARIMA(4, 1, 0) RMSE=104.839\n",
      "ARIMA(4, 2, 0) RMSE=133.007\n",
      "ARIMA(4, 2, 1) RMSE=120.828\n",
      "Best ARIMA(2, 0, 0) RMSE=95.366\n"
     ]
    }
   ],
   "source": [
    "# load trian dataset\n",
    "train = read_csv('Train_data.csv', header=None, index_col=0, parse_dates=True, squeeze=True)\n",
    "# evaluate parameters\n",
    "p_values = range(0, 5)\n",
    "d_values = range(0, 5)\n",
    "q_values = range(0, 5)\n",
    "warnings.filterwarnings(\"ignore\")\n",
    "evaluate_models(train.values, p_values, d_values, q_values)"
   ]
  },
  {
   "cell_type": "code",
   "execution_count": 22,
   "metadata": {
    "ExecuteTime": {
     "end_time": "2021-01-02T09:16:41.160760Z",
     "start_time": "2021-01-02T09:16:41.150760Z"
    }
   },
   "outputs": [],
   "source": [
    "# load data\n",
    "train = read_csv('dataset.csv', header=0, index_col=0, parse_dates=True)\n",
    "# prepare data\n",
    "X = train.values\n",
    "X = X.astype('float32')"
   ]
  },
  {
   "cell_type": "code",
   "execution_count": 23,
   "metadata": {
    "ExecuteTime": {
     "end_time": "2021-01-02T09:16:49.322505Z",
     "start_time": "2021-01-02T09:16:48.986467Z"
    }
   },
   "outputs": [
    {
     "data": {
      "text/plain": [
       "[]"
      ]
     },
     "execution_count": 23,
     "metadata": {},
     "output_type": "execute_result"
    },
    {
     "data": {
      "image/png": "[encoded data removed]",
      "text/plain": [
       "<Figure size 432x288 with 1 Axes>"
      ]
     },
     "metadata": {
      "needs_background": "light"
     },
     "output_type": "display_data"
    }
   ],
   "source": [
    "# fit model\n",
    "model = ARIMA(X, order=(4,1,0))\n",
    "model_fit = model.fit()\n",
    "forecast=model_fit.forecast(steps=10)[0]\n",
    "model_fit.plot_predict(1, 60)\n",
    "plt.plot()"
   ]
  },
  {
   "cell_type": "code",
   "execution_count": 24,
   "metadata": {
    "ExecuteTime": {
     "end_time": "2021-01-02T09:17:48.452155Z",
     "start_time": "2021-01-02T09:17:48.438907Z"
    }
   },
   "outputs": [
    {
     "data": {
      "text/plain": [
       "147.4376501898685"
      ]
     },
     "execution_count": 24,
     "metadata": {},
     "output_type": "execute_result"
    }
   ],
   "source": [
    "val=pd.read_csv('validation.csv',header=None)\n",
    "rmse = sqrt(mean_squared_error(val[1], forecast))\n",
    "rmse"
   ]
  },
  {
   "cell_type": "markdown",
   "metadata": {},
   "source": [
    "#### Final Model Building by combining both train and test data"
   ]
  },
  {
   "cell_type": "code",
   "execution_count": 25,
   "metadata": {
    "ExecuteTime": {
     "end_time": "2021-01-02T09:18:42.812426Z",
     "start_time": "2021-01-02T09:18:42.794908Z"
    }
   },
   "outputs": [],
   "source": [
    "# fit model\n",
    "data = read_csv(r'C:/Users/rayad/OneDrive/Documents/DataScience_Assignments/Forecast/PlasticSales.csv', header=0, index_col=0, parse_dates=True)\n",
    "# prepare data\n",
    "X = data.values\n",
    "X = X.astype('float32')"
   ]
  },
  {
   "cell_type": "code",
   "execution_count": 26,
   "metadata": {
    "ExecuteTime": {
     "end_time": "2021-01-02T09:18:51.498406Z",
     "start_time": "2021-01-02T09:18:51.349890Z"
    }
   },
   "outputs": [],
   "source": [
    "model = ARIMA(X, order=(4,1,0))\n",
    "model_fit = model.fit()"
   ]
  },
  {
   "cell_type": "markdown",
   "metadata": {},
   "source": [
    "#### Forecasting for next 12 Months"
   ]
  },
  {
   "cell_type": "code",
   "execution_count": 29,
   "metadata": {
    "ExecuteTime": {
     "end_time": "2021-01-02T09:19:50.193317Z",
     "start_time": "2021-01-02T09:19:49.992304Z"
    }
   },
   "outputs": [
    {
     "data": {
      "text/plain": [
       "[]"
      ]
     },
     "execution_count": 29,
     "metadata": {},
     "output_type": "execute_result"
    },
    {
     "data": {
      "image/png": "[encoded data removed]",
      "text/plain": [
       "<Figure size 432x288 with 1 Axes>"
      ]
     },
     "metadata": {
      "needs_background": "light"
     },
     "output_type": "display_data"
    }
   ],
   "source": [
    "forecast=model_fit.forecast(steps=12)[0]\n",
    "model_fit.plot_predict(1,72)\n",
    "plt.plot()"
   ]
  },
  {
   "cell_type": "code",
   "execution_count": 30,
   "metadata": {
    "ExecuteTime": {
     "end_time": "2021-01-02T09:20:08.872503Z",
     "start_time": "2021-01-02T09:20:08.866504Z"
    }
   },
   "outputs": [
    {
     "data": {
      "text/plain": [
       "array([ 957.20460344,  996.21317534, 1119.17446393, 1243.05023792,\n",
       "       1346.56099178, 1396.69317863, 1387.87218925, 1339.42556447,\n",
       "       1274.45568829, 1219.65200396, 1192.48431341, 1197.54848403])"
      ]
     },
     "execution_count": 30,
     "metadata": {},
     "output_type": "execute_result"
    }
   ],
   "source": [
    "forecast"
   ]
  }
 ],
 "metadata": {
  "kernelspec": {
   "display_name": "Python 3",
   "language": "python",
   "name": "python3"
  },
  "language_info": {
   "codemirror_mode": {
    "name": "ipython",
    "version": 3
   },
   "file_extension": ".py",
   "mimetype": "text/x-python",
   "name": "python",
   "nbconvert_exporter": "python",
   "pygments_lexer": "ipython3",
   "version": "3.8.3"
  },
  "varInspector": {
   "cols": {
    "lenName": 16,
    "lenType": 16,
    "lenVar": 40
   },
   "kernels_config": {
    "python": {
     "delete_cmd_postfix": "",
     "delete_cmd_prefix": "del ",
     "library": "var_list.py",
     "varRefreshCmd": "print(var_dic_list())"
    },
    "r": {
     "delete_cmd_postfix": ") ",
     "delete_cmd_prefix": "rm(",
     "library": "var_list.r",
     "varRefreshCmd": "cat(var_dic_list()) "
    }
   },
   "types_to_exclude": [
    "module",
    "function",
    "builtin_function_or_method",
    "instance",
    "_Feature"
   ],
   "window_display": false
  }
 },
 "nbformat": 4,
 "nbformat_minor": 4
}
